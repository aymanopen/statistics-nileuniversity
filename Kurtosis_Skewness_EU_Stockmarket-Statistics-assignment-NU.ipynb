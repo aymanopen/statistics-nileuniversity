{
 "cells": [
  {
   "cell_type": "markdown",
   "metadata": {},
   "source": [
    "### In this assignment we have to:\n",
    "- estimate the mean and variance of the absolute change in the daily stock price of German Stock Market and For Swiss Market Index \n",
    "\n",
    "- Estimate the overall mean and variance of the combined dataset DS1 U DS2\n",
    "\n",
    "- Calculate the Skewness and Kurtosis of DS1\n",
    "\n",
    "- Plot the dataset histogram and boxplot"
   ]
  },
  {
   "cell_type": "code",
   "execution_count": 1,
   "metadata": {
    "collapsed": true
   },
   "outputs": [],
   "source": [
    "import pandas as pd\n",
    "import numpy as np\n",
    "from IPython.display import Image # for ipython to display an image inline\n",
    "import matplotlib.pyplot as plt\n"
   ]
  },
  {
   "cell_type": "code",
   "execution_count": 2,
   "metadata": {
    "collapsed": true
   },
   "outputs": [],
   "source": [
    "df=pd.read_csv('EUstock.csv',index_col=0)"
   ]
  },
  {
   "cell_type": "code",
   "execution_count": 3,
   "metadata": {
    "collapsed": true
   },
   "outputs": [],
   "source": [
    "# German Stock market\n",
    "DS1=df.DAX\n",
    "# Swiss Stock market\n",
    "DS2=df.SMI"
   ]
  },
  {
   "cell_type": "code",
   "execution_count": null,
   "metadata": {
    "collapsed": true
   },
   "outputs": [],
   "source": []
  },
  {
   "cell_type": "code",
   "execution_count": 4,
   "metadata": {
    "collapsed": true
   },
   "outputs": [],
   "source": [
    "# a function to get the absolute daily change of both markets\n",
    "def get_abs_diff(ds):\n",
    "    abs_diff=[]\n",
    "    for i in range(1,len(ds)):\n",
    "        abs_diff.append(abs(ds[i+1]-ds[i]))\n",
    "    return pd.DataFrame(abs_diff)"
   ]
  },
  {
   "cell_type": "markdown",
   "metadata": {},
   "source": [
    "# For DS1, estimate the mean and variance of the absolute change in the daily stock price (use for-loops)"
   ]
  },
  {
   "cell_type": "markdown",
   "metadata": {},
   "source": [
    "### - Getting the absolute change in the daily stock price from day to the follow:"
   ]
  },
  {
   "cell_type": "code",
   "execution_count": 5,
   "metadata": {
    "collapsed": true
   },
   "outputs": [],
   "source": [
    "DS1=get_abs_diff(DS1)\n",
    "DS2=get_abs_diff(DS2)"
   ]
  },
  {
   "cell_type": "markdown",
   "metadata": {},
   "source": [
    "### - calculating the mean and variance:"
   ]
  },
  {
   "cell_type": "code",
   "execution_count": 6,
   "metadata": {},
   "outputs": [
    {
     "name": "stdout",
     "output_type": "stream",
     "text": [
      "The mean of the daily change of DS1:  20.220952124798256\n"
     ]
    }
   ],
   "source": [
    "ds1_mean=0\n",
    "for i in range(0,len(DS1)):\n",
    "    ds1_mean+= (DS1.loc[i])\n",
    "ds1_mean=ds1_mean.item()/float(len(DS1))\n",
    "print (\"The mean of the daily change of DS1: \", ds1_mean)"
   ]
  },
  {
   "cell_type": "code",
   "execution_count": 7,
   "metadata": {},
   "outputs": [
    {
     "name": "stdout",
     "output_type": "stream",
     "text": [
      "The variance of the daily change of DS1:  651.2449109874791\n"
     ]
    }
   ],
   "source": [
    "ds1_var=0\n",
    "for i in range(0,len(DS1)):\n",
    "    ds1_var+=(DS1.loc[i]-ds1_mean)**2\n",
    "ds1_var=ds1_var.item()/float(len(DS1)-1)\n",
    "print (\"The variance of the daily change of DS1: \",ds1_var)"
   ]
  },
  {
   "cell_type": "markdown",
   "metadata": {},
   "source": [
    "# 2. Repeat for DS2"
   ]
  },
  {
   "cell_type": "code",
   "execution_count": 8,
   "metadata": {},
   "outputs": [
    {
     "name": "stdout",
     "output_type": "stream",
     "text": [
      "The mean of the daily change of DS2:  24.507584722969334\n"
     ]
    }
   ],
   "source": [
    "ds2_mean=0\n",
    "for i in range(0,len(DS2)):\n",
    "    ds2_mean+= (DS2.loc[i])\n",
    "ds2_mean=ds2_mean.item()/float(len(DS2))\n",
    "print (\"The mean of the daily change of DS2: \", ds2_mean)"
   ]
  },
  {
   "cell_type": "code",
   "execution_count": 9,
   "metadata": {},
   "outputs": [
    {
     "name": "stdout",
     "output_type": "stream",
     "text": [
      "The variance of the daily change of DS2:  1005.9989575109836\n"
     ]
    }
   ],
   "source": [
    "ds2_var=0\n",
    "for i in range(0,len(DS2)):\n",
    "    ds2_var+=(DS2.loc[i]-ds2_mean)**2\n",
    "ds2_var=ds2_var.item()/float(len(DS2)-1)\n",
    "print (\"The variance of the daily change of DS2: \",ds2_var)"
   ]
  },
  {
   "cell_type": "markdown",
   "metadata": {},
   "source": [
    "# Estimate the overall mean and variance of the combined dataset DS1 U DS2"
   ]
  },
  {
   "cell_type": "code",
   "execution_count": 10,
   "metadata": {},
   "outputs": [
    {
     "name": "stdout",
     "output_type": "stream",
     "text": [
      "Mean of the combined dataset:  22.364268423883793\n"
     ]
    }
   ],
   "source": [
    "ds1_len=len(DS1)\n",
    "ds2_len=len(DS2)\n",
    "combined_mean_ds=(ds1_len*ds1_mean+ds2_len*ds2_mean)/(ds1_len+ds2_len)\n",
    "print (\"Mean of the combined dataset: \",combined_mean_ds)"
   ]
  },
  {
   "cell_type": "markdown",
   "metadata": {},
   "source": [
    "### The Variance"
   ]
  },
  {
   "cell_type": "markdown",
   "metadata": {},
   "source": [
    "### using the equation: To calculate the combined v:"
   ]
  },
  {
   "cell_type": "markdown",
   "metadata": {},
   "source": [
    "(n1-1)*(variance1)+(n2-1)*(variance2) divided by (n1+n2-2)"
   ]
  },
  {
   "cell_type": "code",
   "execution_count": 11,
   "metadata": {},
   "outputs": [
    {
     "name": "stdout",
     "output_type": "stream",
     "text": [
      "Combined variance using equation from method 1:  828.6219342492313\n"
     ]
    }
   ],
   "source": [
    "combined_variance1=((ds1_len-1)*(ds1_var)+(ds2_len-1)*(ds2_var))/(ds1_len+ds2_len-2)\n",
    "print (\"Combined variance using equation from method 1: \",combined_variance1)"
   ]
  },
  {
   "cell_type": "code",
   "execution_count": 12,
   "metadata": {},
   "outputs": [
    {
     "name": "stdout",
     "output_type": "stream",
     "text": [
      "Combined variance using equation from method 2:  832.9940472854752\n"
     ]
    }
   ],
   "source": [
    "combined_variance4=(((ds1_len-1)*(ds1_var)+(ds2_len-1)*(ds2_var)+ds1_len*(ds1_mean-combined_mean_ds)**2+ds2_len*(ds2_mean-combined_mean_ds)**2)/(ds1_len+ds2_len-1)) \n",
    "print (\"Combined variance using equation from method 2: \",combined_variance4)"
   ]
  },
  {
   "cell_type": "markdown",
   "metadata": {},
   "source": [
    "#### However pandas variance of the combined ds is near to the first eqn."
   ]
  },
  {
   "cell_type": "code",
   "execution_count": 13,
   "metadata": {},
   "outputs": [
    {
     "name": "stdout",
     "output_type": "stream",
     "text": [
      "Pandas result:  832.994047285\n"
     ]
    }
   ],
   "source": [
    "print(\"Pandas result: \",DS1.append(DS2).var()[0])"
   ]
  },
  {
   "cell_type": "markdown",
   "metadata": {},
   "source": [
    "# 4. Calculate the Skewness and Kurtosis of DS1"
   ]
  },
  {
   "cell_type": "markdown",
   "metadata": {},
   "source": [
    "### using the below equation for kut"
   ]
  },
  {
   "cell_type": "code",
   "execution_count": 14,
   "metadata": {},
   "outputs": [
    {
     "data": {
      "image/png": "[encoded data removed]",
      "text/plain": [
       "<IPython.core.display.Image object>"
      ]
     },
     "execution_count": 14,
     "metadata": {},
     "output_type": "execute_result"
    }
   ],
   "source": [
    "Image(filename='kurtosis-wiki.png') "
   ]
  },
  {
   "cell_type": "code",
   "execution_count": 15,
   "metadata": {
    "collapsed": true
   },
   "outputs": [],
   "source": [
    "kurtosis_ds1=0\n",
    "for i in range(0,len(DS1)):\n",
    "    kurtosis_ds1+=((DS1.loc[i]-ds1_mean)**4) \n",
    "nfac=(len(DS1)*(len(DS1)+1))/(float((len(DS1)-1)*(len(DS1)-2)*(len(DS1)-3)))\n",
    "kurtosis_ds1=kurtosis_ds1/float(ds1_var**(2))*nfac\n",
    "n=ds1_len\n",
    "se=-3.0*(n-1)**2/((n-3)*(n-2))\n",
    "kurtosis_ds1=kurtosis_ds1.item()+se\n"
   ]
  },
  {
   "cell_type": "code",
   "execution_count": 16,
   "metadata": {},
   "outputs": [
    {
     "name": "stdout",
     "output_type": "stream",
     "text": [
      "Kurtosis function result:  10.688051580592592\n"
     ]
    }
   ],
   "source": [
    "print (\"Kurtosis function result: \",kurtosis_ds1)"
   ]
  },
  {
   "cell_type": "markdown",
   "metadata": {},
   "source": [
    "### same as the pandas funciton kurtosis"
   ]
  },
  {
   "cell_type": "code",
   "execution_count": 17,
   "metadata": {},
   "outputs": [
    {
     "name": "stdout",
     "output_type": "stream",
     "text": [
      "kurt fun from pandas, just to make sure:  10.6880515806\n"
     ]
    }
   ],
   "source": [
    "print(\"kurt fun from pandas, just to make sure: \" ,DS1.kurt()[0])"
   ]
  },
  {
   "cell_type": "markdown",
   "metadata": {},
   "source": [
    "### or the one in the lecture below"
   ]
  },
  {
   "cell_type": "code",
   "execution_count": 18,
   "metadata": {
    "collapsed": true
   },
   "outputs": [],
   "source": [
    "kurtosis_ds1=0\n",
    "for i in range(0,len(DS1)):\n",
    "    kurtosis_ds1+=((DS1.loc[i]-ds1_mean)**4) \n",
    "nfac=(len(DS1)*(len(DS1)+1))/(float((len(DS1)-1)*(len(DS1)-2)*(len(DS1)-3)))\n",
    "kurtosis_ds1=kurtosis_ds1.item()/float(ds1_var**(2))*nfac\n",
    "\n"
   ]
  },
  {
   "cell_type": "code",
   "execution_count": 19,
   "metadata": {},
   "outputs": [
    {
     "name": "stdout",
     "output_type": "stream",
     "text": [
      "Kurtosis function from the Lecture:  13.692901588948674\n"
     ]
    }
   ],
   "source": [
    "print (\"Kurtosis function from the Lecture: \",kurtosis_ds1)"
   ]
  },
  {
   "cell_type": "markdown",
   "metadata": {},
   "source": [
    "### it is different from pandas kurt function"
   ]
  },
  {
   "cell_type": "markdown",
   "metadata": {},
   "source": [
    "## skewness\n"
   ]
  },
  {
   "cell_type": "code",
   "execution_count": 20,
   "metadata": {
    "collapsed": true
   },
   "outputs": [],
   "source": [
    "skewness=0\n",
    "for i in range(0,len(DS1)):\n",
    "    skewness+=((DS1.loc[i]-ds1_mean))**3\n",
    "nfac=len(DS1)/float((len(DS1)-1)*(len(DS1)-2))\n",
    "skewness=skewness.item()/float(ds1_var**(3/2.0))*nfac"
   ]
  },
  {
   "cell_type": "code",
   "execution_count": 21,
   "metadata": {},
   "outputs": [
    {
     "name": "stdout",
     "output_type": "stream",
     "text": [
      "Skewness:  2.856066925799168\n"
     ]
    }
   ],
   "source": [
    "print (\"Skewness: \",skewness)"
   ]
  },
  {
   "cell_type": "markdown",
   "metadata": {
    "collapsed": true
   },
   "source": [
    "# 5. Plot Histogram and Box Plot of the combined dataset"
   ]
  },
  {
   "cell_type": "code",
   "execution_count": 22,
   "metadata": {},
   "outputs": [
    {
     "data": {
      "image/png": "[encoded data removed]",
      "text/plain": [
       "<matplotlib.figure.Figure at 0x7f36d9af8710>"
      ]
     },
     "metadata": {},
     "output_type": "display_data"
    }
   ],
   "source": [
    "(DS1.append(DS2,ignore_index=True)).hist()\n",
    "plt.show()"
   ]
  },
  {
   "cell_type": "code",
   "execution_count": 23,
   "metadata": {
    "scrolled": true
   },
   "outputs": [
    {
     "data": {
      "image/png": "[encoded data removed]",
      "text/plain": [
       "<matplotlib.figure.Figure at 0x7f36d1c59710>"
      ]
     },
     "metadata": {},
     "output_type": "display_data"
    }
   ],
   "source": [
    "pd.DataFrame(DS1.append(DS2,ignore_index=True)).boxplot()\n",
    "plt.show()"
   ]
  },
  {
   "cell_type": "markdown",
   "metadata": {},
   "source": [
    " "
   ]
  }
 ],
 "metadata": {
  "kernelspec": {
   "display_name": "Python 3",
   "language": "python",
   "name": "python3"
  },
  "language_info": {
   "codemirror_mode": {
    "name": "ipython",
    "version": 3
   },
   "file_extension": ".py",
   "mimetype": "text/x-python",
   "name": "python",
   "nbconvert_exporter": "python",
   "pygments_lexer": "ipython3",
   "version": "3.6.2"
  }
 },
 "nbformat": 4,
 "nbformat_minor": 2
}
