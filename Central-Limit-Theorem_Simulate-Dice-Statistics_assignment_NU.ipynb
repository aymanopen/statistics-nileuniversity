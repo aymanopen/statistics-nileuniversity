{
 "cells": [
  {
   "cell_type": "markdown",
   "metadata": {},
   "source": [
    "### The objective of the assignment is to demonstrate the central limit theorem, by showing that as we increase the samples, the averages of the samples (means) will tend to have a normal distribution"
   ]
  },
  {
   "cell_type": "code",
   "execution_count": 1,
   "metadata": {
    "collapsed": true
   },
   "outputs": [],
   "source": [
    "import numpy as np\n",
    "import matplotlib.pyplot as plt\n",
    "import matplotlib.mlab as mlab"
   ]
  },
  {
   "cell_type": "code",
   "execution_count": 2,
   "metadata": {},
   "outputs": [
    {
     "name": "stdout",
     "output_type": "stream",
     "text": [
      "1. Simulate 1000 times of throwing a dice: \n"
     ]
    }
   ],
   "source": [
    "print(\"1. Simulate 1000 times of throwing a dice: \")"
   ]
  },
  {
   "cell_type": "code",
   "execution_count": 3,
   "metadata": {
    "collapsed": true
   },
   "outputs": [],
   "source": [
    "arr=np.random.randint(1,7,size=1000)\n"
   ]
  },
  {
   "cell_type": "code",
   "execution_count": 4,
   "metadata": {},
   "outputs": [
    {
     "data": {
      "text/plain": [
       "3.472"
      ]
     },
     "execution_count": 4,
     "metadata": {},
     "output_type": "execute_result"
    }
   ],
   "source": [
    "arr.mean()"
   ]
  },
  {
   "cell_type": "code",
   "execution_count": 5,
   "metadata": {},
   "outputs": [
    {
     "data": {
      "text/plain": [
       "2.9012160000000002"
      ]
     },
     "execution_count": 5,
     "metadata": {},
     "output_type": "execute_result"
    }
   ],
   "source": [
    "arr.var()"
   ]
  },
  {
   "cell_type": "code",
   "execution_count": 6,
   "metadata": {},
   "outputs": [
    {
     "name": "stdout",
     "output_type": "stream",
     "text": [
      "2. plot the result: \n"
     ]
    }
   ],
   "source": [
    "print(\"2. plot the result: \")"
   ]
  },
  {
   "cell_type": "code",
   "execution_count": 7,
   "metadata": {
    "scrolled": false
   },
   "outputs": [
    {
     "data": {
      "image/png": "[encoded data removed]",
      "text/plain": [
       "<matplotlib.figure.Figure at 0x7f4fd219fbe0>"
      ]
     },
     "metadata": {},
     "output_type": "display_data"
    }
   ],
   "source": [
    "plt.figure(figsize=(15,5))\n",
    "plt.hist(arr,bins=100)\n",
    "plt.show()\n",
    "#plt.savefig('2_array_1.png')"
   ]
  },
  {
   "cell_type": "markdown",
   "metadata": {},
   "source": [
    "### Obviously this is not a normal distribution"
   ]
  },
  {
   "cell_type": "code",
   "execution_count": 8,
   "metadata": {},
   "outputs": [
    {
     "name": "stdout",
     "output_type": "stream",
     "text": [
      "3. Simulate 2 dice, 1000 times: \n"
     ]
    }
   ],
   "source": [
    "print(\"3. Simulate 2 dice, 1000 times: \")"
   ]
  },
  {
   "cell_type": "code",
   "execution_count": 9,
   "metadata": {
    "collapsed": true
   },
   "outputs": [],
   "source": [
    "arr1=np.random.randint(1,7,size=1000)\n"
   ]
  },
  {
   "cell_type": "code",
   "execution_count": 10,
   "metadata": {
    "collapsed": true
   },
   "outputs": [],
   "source": [
    "arr2=np.random.randint(1,7,size=1000)\n"
   ]
  },
  {
   "cell_type": "code",
   "execution_count": 11,
   "metadata": {},
   "outputs": [
    {
     "name": "stdout",
     "output_type": "stream",
     "text": [
      "4. Calculate the average of the 2 arrays: \n"
     ]
    }
   ],
   "source": [
    "print(\"4. Calculate the average of the 2 arrays: \")"
   ]
  },
  {
   "cell_type": "code",
   "execution_count": 12,
   "metadata": {
    "collapsed": true
   },
   "outputs": [],
   "source": [
    "arrays1_2_avg=(arr1+arr2)/2.\n"
   ]
  },
  {
   "cell_type": "code",
   "execution_count": 13,
   "metadata": {},
   "outputs": [
    {
     "name": "stdout",
     "output_type": "stream",
     "text": [
      "5. Plot the histogram of the average array: \n"
     ]
    }
   ],
   "source": [
    "print(\"5. Plot the histogram of the average array: \")"
   ]
  },
  {
   "cell_type": "code",
   "execution_count": 14,
   "metadata": {
    "scrolled": true
   },
   "outputs": [
    {
     "data": {
      "image/png": "[encoded data removed]",
      "text/plain": [
       "<matplotlib.figure.Figure at 0x7f4fc5d0aeb8>"
      ]
     },
     "metadata": {},
     "output_type": "display_data"
    }
   ],
   "source": [
    "plt.figure(figsize=(15,5))\n",
    "ax=plt.axes()\n",
    "plt.hist(arrays1_2_avg,bins=100)\n",
    "ax.set_xticks(np.arange(1,6.5,0.5))\n",
    "ax.set_xticklabels(np.arange(1,6.5,0.5))\n",
    "\n",
    "plt.show()\n",
    "#plt.savefig('5_average_of_2.png')"
   ]
  },
  {
   "cell_type": "markdown",
   "metadata": {},
   "source": [
    "#### The shape is starting to look like a normal distribution"
   ]
  },
  {
   "cell_type": "code",
   "execution_count": 15,
   "metadata": {},
   "outputs": [
    {
     "name": "stdout",
     "output_type": "stream",
     "text": [
      "6. Calculate the mean of the resulting array:  3.4835\n"
     ]
    }
   ],
   "source": [
    "print(\"6. Calculate the mean of the resulting array: \",arrays1_2_avg.mean())"
   ]
  },
  {
   "cell_type": "code",
   "execution_count": 16,
   "metadata": {},
   "outputs": [
    {
     "name": "stdout",
     "output_type": "stream",
     "text": [
      "6. Calculate the variance of the resulting array:  1.46847775\n"
     ]
    }
   ],
   "source": [
    "print(\"6. Calculate the variance of the resulting array: \",arrays1_2_avg.var())"
   ]
  },
  {
   "cell_type": "markdown",
   "metadata": {},
   "source": [
    "### Variance is getting smaller"
   ]
  },
  {
   "cell_type": "code",
   "execution_count": 17,
   "metadata": {},
   "outputs": [
    {
     "name": "stdout",
     "output_type": "stream",
     "text": [
      "\n",
      "7. Simulate ten dice, 1000 times each: \n"
     ]
    }
   ],
   "source": [
    "print(\"\\n7. Simulate ten dice, 1000 times each: \")"
   ]
  },
  {
   "cell_type": "code",
   "execution_count": 18,
   "metadata": {},
   "outputs": [
    {
     "name": "stdout",
     "output_type": "stream",
     "text": [
      "Create an array of 10 and each row will have the simulation of one Dice: \n"
     ]
    }
   ],
   "source": [
    "print(\"Create an array of 10 and each row will have the simulation of one Dice: \")"
   ]
  },
  {
   "cell_type": "code",
   "execution_count": 19,
   "metadata": {
    "collapsed": true
   },
   "outputs": [],
   "source": [
    "arr_ten=[np.random.randint(1,7,1000) for x in range(0,10)]"
   ]
  },
  {
   "cell_type": "code",
   "execution_count": 20,
   "metadata": {},
   "outputs": [
    {
     "data": {
      "text/plain": [
       "(10, 1000)"
      ]
     },
     "execution_count": 20,
     "metadata": {},
     "output_type": "execute_result"
    }
   ],
   "source": [
    "np.array(arr_ten).shape"
   ]
  },
  {
   "cell_type": "code",
   "execution_count": 21,
   "metadata": {},
   "outputs": [
    {
     "name": "stdout",
     "output_type": "stream",
     "text": [
      "The resulting averages of the 10 dice: \n"
     ]
    }
   ],
   "source": [
    "print(\"The resulting averages of the 10 dice: \")"
   ]
  },
  {
   "cell_type": "code",
   "execution_count": 22,
   "metadata": {
    "collapsed": true
   },
   "outputs": [],
   "source": [
    "arr_avg_ten=np.array([0]*1000)\n",
    "for i in arr_ten:\n",
    "    arr_avg_ten+=i\n",
    "arr_avg_ten=arr_avg_ten/float(len(arr_ten))"
   ]
  },
  {
   "cell_type": "code",
   "execution_count": 23,
   "metadata": {
    "scrolled": true
   },
   "outputs": [
    {
     "data": {
      "text/plain": [
       "array([ 2.8,  3.3,  4. ,  3.7,  3.2,  3.4,  3. ,  3.2,  4.3,  3.6,  4. ,\n",
       "        3.4,  3.3,  3.3,  2.5,  3.1,  3. ,  2.8,  3.4,  3.7,  3. ,  3.9,\n",
       "        3.5,  2.6,  3. ,  3.6,  3.6,  3.8,  2.9,  2.6,  3.5,  3.5,  3.3,\n",
       "        4. ,  4.5,  3.4,  2.8,  4.4,  3.9,  3.7,  3. ,  2.9,  2.9,  3.8,\n",
       "        3.5,  3.6,  2.8,  3.4,  3.4,  3.5,  3.7,  3.3,  3.3,  3.4,  3.8,\n",
       "        3.3,  3.5,  2.9,  4.6,  3.9,  3. ,  4. ,  4.2,  2.5,  3.4,  3.5,\n",
       "        3.8,  2.8,  3.7,  3.3,  3.3,  3.9,  2.9,  4.5,  3.9,  3.9,  3.8,\n",
       "        3.6,  3.3,  3.8,  3.1,  3.4,  3.8,  2.4,  3.4,  2.8,  3.9,  3.3,\n",
       "        3. ,  4.7,  2.4,  2.5,  3.4,  3.1,  4.1,  3.1,  3.6,  4.2,  3.3,\n",
       "        3.3,  3. ,  3.3,  2.7,  3.3,  4.2,  2.8,  4.4,  3.3,  3.2,  3.5,\n",
       "        3.3,  4. ,  3.3,  4. ,  3.7,  3.4,  3. ,  3.6,  2.4,  3.7,  3.5,\n",
       "        2.8,  2.9,  3.7,  3.3,  4.1,  4.7,  4. ,  4.2,  3.7,  2.4,  2.6,\n",
       "        3. ,  3.1,  4. ,  3.5,  2.9,  4.1,  2.7,  2.1,  2.7,  4.3,  2.7,\n",
       "        4.3,  4.3,  3.5,  3.7,  3.2,  3.7,  3.2,  4.1,  3.3,  4.3,  3.5,\n",
       "        4.6,  3.9,  3.5,  4. ,  3.2,  3.5,  3.7,  3.3,  2.4,  3.5,  2.8,\n",
       "        4.2,  3.2,  3.9,  3.4,  3.5,  3.8,  3.2,  2.4,  4.8,  2.7,  3.6,\n",
       "        3.9,  3.4,  2.4,  3.4,  3.3,  4.5,  2.7,  3.5,  2.9,  3. ,  3.9,\n",
       "        3.3,  3.9,  3.5,  3.1,  4. ,  3.7,  4.2,  3.5,  2.9,  4.3,  3.1,\n",
       "        4. ,  3.3,  3.2,  3.6,  3.3,  3.7,  4.1,  3.7,  3.6,  3.4,  3.2,\n",
       "        2.7,  3.8,  3.3,  3.5,  3.5,  3.5,  3.5,  2.9,  3.2,  2.7,  4. ,\n",
       "        3.6,  2.7,  2.9,  3. ,  2.7,  2.5,  4. ,  2.8,  4.8,  3. ,  3.2,\n",
       "        3.2,  3.4,  3.3,  3.9,  2.7,  3.1,  3.3,  4. ,  3.5,  4.6,  2.4,\n",
       "        2.4,  2.8,  2.4,  3.4,  3.1,  3.3,  3. ,  4.1,  4. ,  4.6,  4.1,\n",
       "        4.3,  3.5,  3.9,  3.3,  3.7,  2.9,  3. ,  2.8,  3.9,  4.5,  2.9,\n",
       "        3.8,  3.3,  2.6,  3.3,  3.5,  3.6,  2.7,  3.1,  3. ,  3.7,  3.1,\n",
       "        3.8,  2.8,  3.4,  3.5,  3.2,  3. ,  4.3,  3.1,  2.8,  3.8,  2.5,\n",
       "        1.8,  3.1,  3.2,  3.3,  2.2,  2.6,  3.5,  3.2,  3.1,  3.7,  3.1,\n",
       "        3.3,  4.2,  3.7,  3.7,  3. ,  3. ,  3.8,  3.8,  3.9,  3. ,  3.1,\n",
       "        2.6,  4.3,  4.4,  4.2,  4.2,  4.7,  3. ,  3.6,  3.7,  3. ,  2.9,\n",
       "        4. ,  3.3,  3.4,  2.4,  3.5,  3.6,  4.4,  3.7,  2.9,  3.1,  3.9,\n",
       "        2.9,  3.5,  2.2,  2.7,  2.7,  4. ,  3.9,  3.4,  3.3,  3.1,  2.8,\n",
       "        3.8,  3.8,  2.8,  2.9,  2.9,  3.4,  3.6,  3. ,  4.1,  3.9,  3.8,\n",
       "        3.9,  3. ,  3.3,  4.1,  3.4,  3.6,  3.9,  3.8,  3.4,  4. ,  4.1,\n",
       "        3. ,  2.5,  3.8,  3.9,  3. ,  4.1,  4.1,  3.8,  3.7,  2.8,  3.9,\n",
       "        3.9,  4.1,  3.6,  4.1,  2.9,  2.6,  3.6,  4.1,  3.8,  3.5,  2.8,\n",
       "        3.5,  3.4,  2.8,  2.7,  3.5,  3.3,  2.5,  3.7,  3.5,  3.7,  5. ,\n",
       "        3.8,  4.2,  4.4,  3.5,  2.6,  4.2,  3.2,  4.2,  3.5,  3.5,  3.2,\n",
       "        3.4,  3.5,  3.7,  3.5,  3. ,  2.9,  4.1,  3.2,  3.3,  2.4,  3.4,\n",
       "        3.5,  3.3,  4.4,  2.7,  3.5,  3.4,  2.5,  3.5,  2.5,  4.2,  3.6,\n",
       "        3.9,  4.1,  2.6,  3.1,  4. ,  3.8,  3.4,  4.2,  4. ,  3.3,  3.9,\n",
       "        2.8,  3.9,  3.6,  3.5,  4. ,  2.8,  3.7,  3.5,  3.8,  2.1,  4.1,\n",
       "        3.6,  3.2,  4.1,  3.6,  3.9,  2.8,  3.2,  3.3,  3.3,  3.6,  3.8,\n",
       "        4. ,  4. ,  3.4,  3.5,  3.2,  3.2,  2.7,  3.4,  3.1,  4.6,  2.9,\n",
       "        3.4,  4.3,  3.7,  3.2,  4. ,  3. ,  3.8,  4.4,  3.5,  3.1,  3.9,\n",
       "        4. ,  3.4,  3.9,  3.9,  3.6,  3.7,  2.8,  3.2,  3.7,  2.8,  3.5,\n",
       "        3.4,  2.8,  3.2,  4.1,  3.1,  3.1,  3.6,  3.6,  3.7,  3.6,  4. ,\n",
       "        3.5,  4.1,  4.6,  3.1,  3.3,  2.5,  4.2,  2.8,  3.4,  3.1,  3.3,\n",
       "        3.7,  4. ,  3.3,  3.3,  3.2,  3.8,  3.1,  4.4,  3. ,  3.8,  3.3,\n",
       "        2.9,  3.1,  2.3,  4.1,  3. ,  2.8,  2.8,  4.4,  3.5,  3.3,  4. ,\n",
       "        4. ,  2.8,  3.9,  3.5,  2.7,  2.6,  4.4,  3.6,  3.3,  2.7,  4.2,\n",
       "        2.2,  3.3,  3.2,  3.2,  4.4,  3.7,  2.9,  3.3,  3.1,  3.6,  3.1,\n",
       "        3.3,  4.9,  3. ,  3.8,  4. ,  3. ,  4.3,  3.8,  3.8,  3. ,  4. ,\n",
       "        3.6,  2.5,  4.5,  3.9,  4. ,  3.2,  2.3,  4.2,  3.6,  4.1,  3.2,\n",
       "        4.4,  4.5,  3. ,  4.3,  3. ,  3.4,  3.9,  3.5,  3.1,  4.1,  3.3,\n",
       "        3.2,  3.3,  3.2,  3.6,  2.9,  4. ,  3.5,  2.7,  3.6,  3.6,  3.2,\n",
       "        3.7,  3.9,  3. ,  4. ,  4. ,  2.8,  3.1,  3.8,  2.4,  3. ,  2.5,\n",
       "        3.3,  3.9,  2.5,  3.6,  3.1,  4.2,  3.9,  4.6,  1.9,  3.5,  3.6,\n",
       "        3.3,  3. ,  3.3,  3.6,  3.5,  3.7,  3.9,  3.5,  4.3,  2.7,  3.7,\n",
       "        3.8,  3.3,  3.9,  3.5,  4.1,  3.2,  3.8,  3.8,  3.1,  3.8,  2.6,\n",
       "        3.6,  3.9,  4.2,  3.8,  2.7,  3.7,  4. ,  3. ,  3.6,  2.9,  2.8,\n",
       "        5.1,  3.5,  4.1,  3.7,  3.2,  3.6,  3.4,  3.5,  3.2,  2.9,  3.8,\n",
       "        4.2,  3.8,  4.6,  2.8,  4.1,  2.4,  3.5,  2.9,  3.5,  4.3,  2.7,\n",
       "        3.9,  4. ,  3.8,  3.7,  4.4,  3.6,  3.7,  3.5,  3.5,  2.6,  2.7,\n",
       "        2.6,  3.1,  3.3,  2.9,  3.3,  4. ,  2.4,  2.7,  3.2,  3.8,  3.5,\n",
       "        2.8,  3. ,  3.8,  2.8,  3.6,  4. ,  2.8,  3.4,  2.3,  4.1,  3.7,\n",
       "        3.6,  3.1,  3.9,  2.9,  3.3,  3.8,  3.7,  3.8,  3.7,  3.8,  2.6,\n",
       "        3.4,  4.3,  3.1,  4.4,  3.4,  2.3,  3.9,  3.9,  2.4,  4.2,  3.6,\n",
       "        4.8,  3. ,  3.9,  3.4,  4. ,  4. ,  3.2,  4.2,  4. ,  4.2,  3.6,\n",
       "        3.4,  3.1,  3.1,  3.9,  3.6,  2.9,  3.5,  3.3,  3.5,  3.5,  2.9,\n",
       "        4.1,  4.4,  3.1,  3.7,  2.8,  3.1,  3. ,  4. ,  3.2,  3.7,  4.3,\n",
       "        3.5,  3.7,  2.7,  4.8,  4.5,  2.9,  4.2,  3.4,  3.7,  3.4,  3. ,\n",
       "        2.7,  2.8,  3.9,  4. ,  3.9,  3.2,  3. ,  3.5,  3.1,  3.9,  2.6,\n",
       "        3.8,  4.1,  3.9,  4.4,  3.9,  2.9,  2.7,  3.9,  3.6,  4.2,  3.3,\n",
       "        4.1,  3.5,  4. ,  3.7,  3.9,  3.7,  3.9,  3.6,  3.2,  3.2,  3.9,\n",
       "        3.8,  3.5,  3.4,  3.2,  3.9,  3.5,  3.5,  2.9,  3.6,  3.2,  3.5,\n",
       "        2.7,  3.2,  4.3,  4. ,  3.7,  3.9,  3.4,  4.3,  4.4,  3.2,  2.8,\n",
       "        3.8,  2.6,  3.1,  3.5,  3.8,  4.6,  3.2,  2.9,  3. ,  4.2,  2.9,\n",
       "        4. ,  3.4,  3.7,  3.3,  3.7,  2.5,  3.4,  2.6,  4.1,  2.8,  3.4,\n",
       "        3.7,  3.5,  4.2,  4. ,  3. ,  3.1,  4.3,  3.3,  3.9,  3.6,  3.1,\n",
       "        3.2,  3.7,  2.9,  3.3,  3.3,  2.4,  3.7,  3. ,  3.7,  3.5,  3.7,\n",
       "        2.5,  3. ,  3.2,  4.2,  4. ,  3.6,  3.4,  4.3,  3.2,  3.1,  3.8,\n",
       "        3.5,  3.6,  3.3,  3.1,  3.1,  2.5,  3. ,  3.2,  2.9,  3.1,  3.7,\n",
       "        3.9,  4.3,  4.2,  3.6,  4.6,  3.6,  2.9,  3. ,  3.3,  3.3,  3.9,\n",
       "        3. ,  3.6,  4.3,  3.3,  3.4,  3.1,  3.1,  3.1,  3.4,  3.1,  3.6,\n",
       "        4.5,  3.1,  3.7,  3.3,  3. ,  3.9,  3.8,  4.4,  3.1,  3.2,  2.8,\n",
       "        4.2,  4.2,  3.2,  2.7,  3.6,  4.2,  3.4,  3.9,  3.1,  3.2,  4.2,\n",
       "        3.3,  3.7,  3.6,  2.9,  3.9,  3.5,  3.5,  2.8,  3.9,  3.1,  2.8,\n",
       "        4. ,  4. ,  3.8,  3.3,  3.1,  3.6,  2.8,  2.8,  3.3,  3.5,  3.8,\n",
       "        3.9,  3.7,  3.3,  2.6,  3.7,  3.7,  3.9,  4. ,  3.7,  3.2,  4.2,\n",
       "        4.4,  3.6,  4. ,  4.1,  3.5,  3. ,  3.5,  4. ,  3.7,  2.9,  4.8,\n",
       "        3.5,  3. ,  3.5,  3.4,  3.7,  3.8,  4. ,  2.5,  3.5,  4.7])"
      ]
     },
     "execution_count": 23,
     "metadata": {},
     "output_type": "execute_result"
    }
   ],
   "source": [
    "arr_avg_ten"
   ]
  },
  {
   "cell_type": "code",
   "execution_count": 24,
   "metadata": {},
   "outputs": [
    {
     "name": "stdout",
     "output_type": "stream",
     "text": [
      "9. Plot the histogram of the average value: \n"
     ]
    }
   ],
   "source": [
    "print(\"9. Plot the histogram of the average value: \")"
   ]
  },
  {
   "cell_type": "code",
   "execution_count": 25,
   "metadata": {},
   "outputs": [
    {
     "data": {
      "image/png": "[encoded data removed]",
      "text/plain": [
       "<matplotlib.figure.Figure at 0x7f4fc5d7ef98>"
      ]
     },
     "metadata": {},
     "output_type": "display_data"
    }
   ],
   "source": [
    "plt.figure(figsize=(15,5))\n",
    "ax=plt.axes()\n",
    "plt.hist(arr_avg_ten,bins=100)\n",
    "ax.set_xticks(np.arange(1.5,6.0,0.2))\n",
    "ax.set_xticklabels(np.arange(1.5,6.0,0.2))\n",
    "plt.show()\n",
    "#plt.savefig('9_average_of_ten.png')"
   ]
  },
  {
   "cell_type": "code",
   "execution_count": 26,
   "metadata": {},
   "outputs": [
    {
     "name": "stdout",
     "output_type": "stream",
     "text": [
      "10. Calculate the mean of the average of the 10:  3.4689\n"
     ]
    }
   ],
   "source": [
    "print(\"10. Calculate the mean of the average of the 10: \",arr_avg_ten.mean())"
   ]
  },
  {
   "cell_type": "code",
   "execution_count": 27,
   "metadata": {},
   "outputs": [
    {
     "name": "stdout",
     "output_type": "stream",
     "text": [
      "10. Calculate the var of the average of the 10:  0.28968279\n"
     ]
    }
   ],
   "source": [
    "print(\"10. Calculate the var of the average of the 10: \",arr_avg_ten.var())"
   ]
  },
  {
   "cell_type": "markdown",
   "metadata": {
    "collapsed": true
   },
   "source": [
    "### looks more like a normal distribution and the variance decreased significantly"
   ]
  }
 ],
 "metadata": {
  "kernelspec": {
   "display_name": "Python 3",
   "language": "python",
   "name": "python3"
  },
  "language_info": {
   "codemirror_mode": {
    "name": "ipython",
    "version": 3
   },
   "file_extension": ".py",
   "mimetype": "text/x-python",
   "name": "python",
   "nbconvert_exporter": "python",
   "pygments_lexer": "ipython3",
   "version": "3.6.2"
  }
 },
 "nbformat": 4,
 "nbformat_minor": 2
}
