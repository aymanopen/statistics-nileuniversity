{
 "cells": [
  {
   "cell_type": "markdown",
   "metadata": {},
   "source": [
    "## In this assignment we will test the hypothesis that the economic growth of the German Stock market was the same during 2 equal periods of times,\n",
    "- We test the null hypothesis using t table\n",
    "- We use a significance level of 5%"
   ]
  },
  {
   "cell_type": "code",
   "execution_count": 1,
   "metadata": {
    "collapsed": true
   },
   "outputs": [],
   "source": [
    "from scipy import stats\n",
    "import pandas as pd\n",
    "import matplotlib.pyplot as plt\n",
    "import numpy as np"
   ]
  },
  {
   "cell_type": "code",
   "execution_count": 2,
   "metadata": {},
   "outputs": [
    {
     "name": "stdout",
     "output_type": "stream",
     "text": [
      "1. Load the data: \n"
     ]
    }
   ],
   "source": [
    "print(\"1. Load the data: \")"
   ]
  },
  {
   "cell_type": "code",
   "execution_count": 3,
   "metadata": {
    "collapsed": true
   },
   "outputs": [],
   "source": [
    "dax=pd.read_csv('EUstock.csv')['DAX']"
   ]
  },
  {
   "cell_type": "code",
   "execution_count": 4,
   "metadata": {},
   "outputs": [
    {
     "data": {
      "text/plain": [
       "930.0"
      ]
     },
     "execution_count": 4,
     "metadata": {},
     "output_type": "execute_result"
    }
   ],
   "source": [
    "len(dax)/2\n"
   ]
  },
  {
   "cell_type": "code",
   "execution_count": 5,
   "metadata": {},
   "outputs": [
    {
     "name": "stdout",
     "output_type": "stream",
     "text": [
      "2. Split the data into 2 halves: \n"
     ]
    }
   ],
   "source": [
    "print(\"2. Split the data into 2 halves: \")"
   ]
  },
  {
   "cell_type": "code",
   "execution_count": 6,
   "metadata": {
    "collapsed": true
   },
   "outputs": [],
   "source": [
    "half_1=dax.loc[:len(dax)/2-1]"
   ]
  },
  {
   "cell_type": "code",
   "execution_count": 7,
   "metadata": {
    "collapsed": true
   },
   "outputs": [],
   "source": [
    "half_2=dax.loc[len(dax)/2:]"
   ]
  },
  {
   "cell_type": "code",
   "execution_count": 8,
   "metadata": {},
   "outputs": [
    {
     "data": {
      "text/plain": [
       "930"
      ]
     },
     "execution_count": 8,
     "metadata": {},
     "output_type": "execute_result"
    }
   ],
   "source": [
    "len(half_2)"
   ]
  },
  {
   "cell_type": "code",
   "execution_count": 9,
   "metadata": {},
   "outputs": [
    {
     "data": {
      "text/plain": [
       "930"
      ]
     },
     "execution_count": 9,
     "metadata": {},
     "output_type": "execute_result"
    }
   ],
   "source": [
    "len(half_1)"
   ]
  },
  {
   "cell_type": "code",
   "execution_count": 10,
   "metadata": {},
   "outputs": [
    {
     "name": "stdout",
     "output_type": "stream",
     "text": [
      "3. Claculate mean and std of 1st half: \n"
     ]
    }
   ],
   "source": [
    "print(\"3. Claculate mean and std of 1st half: \")"
   ]
  },
  {
   "cell_type": "code",
   "execution_count": 11,
   "metadata": {},
   "outputs": [
    {
     "name": "stdout",
     "output_type": "stream",
     "text": [
      "mean:  1822.8727419354855\n"
     ]
    }
   ],
   "source": [
    "print(\"mean: \", half_1.mean())"
   ]
  },
  {
   "cell_type": "code",
   "execution_count": 12,
   "metadata": {},
   "outputs": [
    {
     "name": "stdout",
     "output_type": "stream",
     "text": [
      "standard d:  241.15169373506328\n"
     ]
    }
   ],
   "source": [
    "print(\"standard d: \",half_1.std())"
   ]
  },
  {
   "cell_type": "code",
   "execution_count": 13,
   "metadata": {},
   "outputs": [
    {
     "name": "stdout",
     "output_type": "stream",
     "text": [
      "4. Claculate mean and std of 2nd half: \n"
     ]
    }
   ],
   "source": [
    "print(\"4. Claculate mean and std of 2nd half: \")"
   ]
  },
  {
   "cell_type": "code",
   "execution_count": 14,
   "metadata": {},
   "outputs": [
    {
     "name": "stdout",
     "output_type": "stream",
     "text": [
      "mean:  3238.441021505378\n"
     ]
    }
   ],
   "source": [
    "print(\"mean: \", half_2.mean())"
   ]
  },
  {
   "cell_type": "code",
   "execution_count": 15,
   "metadata": {},
   "outputs": [
    {
     "name": "stdout",
     "output_type": "stream",
     "text": [
      "standard d:  1137.3952192152863\n"
     ]
    }
   ],
   "source": [
    "print(\"standard d: \",half_2.std())"
   ]
  },
  {
   "cell_type": "code",
   "execution_count": 16,
   "metadata": {
    "scrolled": true
   },
   "outputs": [
    {
     "data": {
      "image/png": "[encoded data removed]",
      "text/plain": [
       "<matplotlib.figure.Figure at 0x7f4ae7bec2b0>"
      ]
     },
     "metadata": {},
     "output_type": "display_data"
    }
   ],
   "source": [
    "plt.figure(figsize=(10,5))\n",
    "plt.ylim(0,6350)\n",
    "plt.plot((half_1))\n",
    "plt.plot((half_2))\n",
    "plt.show()"
   ]
  },
  {
   "cell_type": "markdown",
   "metadata": {},
   "source": [
    "### We can see, by just drawing, that of course they are not the same, \n",
    "- however let's make things more quantified"
   ]
  },
  {
   "cell_type": "code",
   "execution_count": 17,
   "metadata": {},
   "outputs": [
    {
     "name": "stdout",
     "output_type": "stream",
     "text": [
      "5. q is a random variable, representing the difference between the 2 samples: \n"
     ]
    }
   ],
   "source": [
    "print(\"5. q is a random variable, representing the difference between the 2 samples: \")"
   ]
  },
  {
   "cell_type": "code",
   "execution_count": 18,
   "metadata": {},
   "outputs": [
    {
     "name": "stdout",
     "output_type": "stream",
     "text": [
      "-1415.5682795698926\n"
     ]
    }
   ],
   "source": [
    "q=half_1.mean()-half_2.mean()\n",
    "print(q)"
   ]
  },
  {
   "cell_type": "code",
   "execution_count": 19,
   "metadata": {},
   "outputs": [
    {
     "name": "stdout",
     "output_type": "stream",
     "text": [
      "6. Calculate the variance of q, (the difference): \n"
     ]
    }
   ],
   "source": [
    "print(\"6. Calculate the variance of q, (the difference): \")"
   ]
  },
  {
   "cell_type": "code",
   "execution_count": 20,
   "metadata": {},
   "outputs": [
    {
     "name": "stdout",
     "output_type": "stream",
     "text": [
      "q variance:  1452.00908819\n",
      "i.e. Standard error for the difference of means:  38.1052370179\n"
     ]
    }
   ],
   "source": [
    "\n",
    "qvar=np.array(half_1).var()/(len(half_1))+np.array(half_2).var()/(len(half_2))\n",
    "print(\"q variance: \",qvar)\n",
    "print(\"i.e. Standard error for the difference of means: \" , qvar**0.5)"
   ]
  },
  {
   "cell_type": "code",
   "execution_count": 21,
   "metadata": {},
   "outputs": [
    {
     "name": "stdout",
     "output_type": "stream",
     "text": [
      "We can draw a gaussian distribution of q, where the center mean is q (as calculated above) and standard deviation as calculated in this step's standard error.\n"
     ]
    }
   ],
   "source": [
    "print(\"We can draw a gaussian distribution of q, where the center mean is q (as calculated above) and standard deviation as calculated in this step's standard error.\")"
   ]
  },
  {
   "cell_type": "code",
   "execution_count": 22,
   "metadata": {},
   "outputs": [
    {
     "data": {
      "image/png": "[encoded data removed]",
      "text/plain": [
       "<matplotlib.figure.Figure at 0x7f4adfdce7f0>"
      ]
     },
     "metadata": {},
     "output_type": "display_data"
    }
   ],
   "source": [
    "x = np.linspace(-1600,-1200)\n",
    "y = stats.norm.pdf(x, loc=q, scale=qvar**0.5)    \n",
    "plt.plot(x,y)\n",
    "plt.title(\"Distributoin of difference of means/q\")\n",
    "plt.show()"
   ]
  },
  {
   "cell_type": "code",
   "execution_count": 23,
   "metadata": {},
   "outputs": [
    {
     "name": "stdout",
     "output_type": "stream",
     "text": [
      "7. With significance level of 5%, test the Hypothesis that m1=m2 \n",
      "We don't know the population standard deviation since those are 2 samples, so I use t test as below.\n"
     ]
    }
   ],
   "source": [
    "print(\"7. With significance level of 5%, test the Hypothesis that m1=m2 \")\n",
    "print(\"We don't know the population standard deviation since those are 2 samples, so I use t test as below.\")"
   ]
  },
  {
   "cell_type": "code",
   "execution_count": 24,
   "metadata": {
    "collapsed": true
   },
   "outputs": [],
   "source": [
    "alpha=0.05"
   ]
  },
  {
   "cell_type": "code",
   "execution_count": 25,
   "metadata": {},
   "outputs": [
    {
     "name": "stdout",
     "output_type": "stream",
     "text": [
      "-37.1489167986\n"
     ]
    }
   ],
   "source": [
    "t_value=(q)/((qvar)**0.5) \n",
    "# the difference in means divided by the standard deviation of the means \n",
    "print(t_value)"
   ]
  },
  {
   "cell_type": "code",
   "execution_count": 26,
   "metadata": {
    "collapsed": true
   },
   "outputs": [],
   "source": [
    "tcritical_from_table=1.962 # alpha 0.05 2 tailed test"
   ]
  },
  {
   "cell_type": "code",
   "execution_count": 27,
   "metadata": {},
   "outputs": [
    {
     "name": "stdout",
     "output_type": "stream",
     "text": [
      "Checkingt from the stats package: \n"
     ]
    }
   ],
   "source": [
    "print(\"Checkingt from the stats package: \")"
   ]
  },
  {
   "cell_type": "code",
   "execution_count": 28,
   "metadata": {},
   "outputs": [
    {
     "name": "stdout",
     "output_type": "stream",
     "text": [
      "1.9625208332\n"
     ]
    }
   ],
   "source": [
    "print(stats.t.ppf((1-alpha/2), len(half_1)-1))"
   ]
  },
  {
   "cell_type": "markdown",
   "metadata": {},
   "source": [
    "### I try to visualize the pdf and q "
   ]
  },
  {
   "cell_type": "code",
   "execution_count": 29,
   "metadata": {},
   "outputs": [
    {
     "data": {
      "image/png": "[encoded data removed]",
      "text/plain": [
       "<matplotlib.figure.Figure at 0x7f4adfc17278>"
      ]
     },
     "metadata": {},
     "output_type": "display_data"
    }
   ],
   "source": [
    "plt.figure(figsize=(20,5))\n",
    "x = np.linspace(-200,200)\n",
    "y = stats.norm.pdf(x, loc=0, scale=qvar**0.5)    \n",
    "plt.plot(x,y)\n",
    "plt.scatter([(1.962*(qvar**0.5)),(-1.962*(qvar**0.5))],[0,0],c='y')\n",
    "plt.annotate('critical value', xy=(-(1.962*(qvar**0.5)), 0),xytext=((-1.962*(qvar**0.5))-100, 0.002),\n",
    "            arrowprops=dict(facecolor='black', shrink=0.05))\n",
    "plt.scatter([(q)],[0],c='g')\n",
    "plt.annotate('q', xy=(q,0),xytext=(q+10, 0.002),\n",
    "            arrowprops=dict(facecolor='black', shrink=0.05))\n",
    "plt.title(\"normalized distribution vs q(the difference of means)\")\n",
    "plt.show()"
   ]
  },
  {
   "cell_type": "code",
   "execution_count": 31,
   "metadata": {},
   "outputs": [
    {
     "name": "stdout",
     "output_type": "stream",
     "text": [
      "Pvalue is almost 0...\n"
     ]
    }
   ],
   "source": [
    "print (\"Pvalue is almost 0...\")"
   ]
  },
  {
   "cell_type": "code",
   "execution_count": 32,
   "metadata": {},
   "outputs": [
    {
     "data": {
      "text/plain": [
       "Ttest_indResult(statistic=-37.128938890874657, pvalue=3.3756087351451227e-226)"
      ]
     },
     "execution_count": 32,
     "metadata": {},
     "output_type": "execute_result"
    }
   ],
   "source": [
    "stats.ttest_ind(half_1,half_2)"
   ]
  },
  {
   "cell_type": "markdown",
   "metadata": {},
   "source": [
    "### Since t<<tcritical from the table(-1.962 & 1.962), we reject the null hypothesis"
   ]
  }
 ],
 "metadata": {
  "kernelspec": {
   "display_name": "Python 3",
   "language": "python",
   "name": "python3"
  },
  "language_info": {
   "codemirror_mode": {
    "name": "ipython",
    "version": 3
   },
   "file_extension": ".py",
   "mimetype": "text/x-python",
   "name": "python",
   "nbconvert_exporter": "python",
   "pygments_lexer": "ipython3",
   "version": "3.6.2"
  }
 },
 "nbformat": 4,
 "nbformat_minor": 2
}
